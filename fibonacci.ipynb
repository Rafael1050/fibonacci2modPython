{
  "nbformat": 4,
  "nbformat_minor": 0,
  "metadata": {
    "colab": {
      "name": "fibonacci.ipynb",
      "provenance": [],
      "collapsed_sections": [],
      "toc_visible": true,
      "authorship_tag": "ABX9TyOqzpIV0nLVeVkt1/GkbZna",
      "include_colab_link": true
    },
    "kernelspec": {
      "name": "python3",
      "display_name": "Python 3"
    },
    "language_info": {
      "name": "python"
    }
  },
  "cells": [
    {
      "cell_type": "markdown",
      "metadata": {
        "id": "view-in-github",
        "colab_type": "text"
      },
      "source": [
        "<a href=\"https://colab.research.google.com/github/Rafael1050/fibonacci2modPython/blob/main/fibonacci.ipynb\" target=\"_parent\"><img src=\"https://colab.research.google.com/assets/colab-badge.svg\" alt=\"Open In Colab\"/></a>"
      ]
    },
    {
      "cell_type": "code",
      "execution_count": 12,
      "metadata": {
        "id": "fFX88m8hWJIy",
        "colab": {
          "base_uri": "https://localhost:8080/"
        },
        "outputId": "20f58f36-6e7a-4ada-a849-051b034e8029"
      },
      "outputs": [
        {
          "output_type": "stream",
          "name": "stdout",
          "text": [
            "Digite um numero para calcular o seu 'fib', e então compararmos o seu tempo de execução \n",
            " em recursão VS programação dinamica \n",
            " \n",
            ">>> 10\n",
            "\n",
            "\n",
            "o fib de  10  É igual a:  55 \n",
            "\n",
            "Utiliando rescursão foi gasto um tempo de:  0.00005578994750976562 \n",
            "\n",
            "Utiliando a programação dinamica foi gasto um tempo de:  0.00000858306884765625 \n",
            "\n"
          ]
        }
      ],
      "source": [
        "\n",
        "import time\n",
        "\n",
        "\n",
        "def fib(n):\n",
        "    \n",
        "    if n <= 1:\n",
        "        return n\n",
        "    else:\n",
        "        return fib(n-1) + fib(n-2) \n",
        "\n",
        "def fibD(n):\n",
        "    \n",
        "    f = []\n",
        "    f.append(0)\n",
        "    f.append(1)\n",
        "    \n",
        "    for i in range(2,n+1):\n",
        "        f.append(f[i-1] + f[i-2])\n",
        "    \n",
        "    return f[n]\n",
        "\n",
        "def comparaFib(n):\n",
        "\n",
        "    ini = time.time()\n",
        "    result = fib(n)\n",
        "    fim = time.time()\n",
        "    tempo1 = fim-ini\n",
        "\n",
        "    ini = time.time()\n",
        "    fibD(n)\n",
        "    fim = time.time()\n",
        "    tempo2 = fim-ini\n",
        "\n",
        "    print(\"o fib de \",n,\" É igual a: \",result,'\\n')\n",
        "    print(\"Utiliando rescursão foi gasto um tempo de: \",\"{:.20f}\".format(tempo1),'\\n')\n",
        "    print(\"Utiliando a programação dinamica foi gasto um tempo de: \",\"{:.20f}\".format(tempo2),'\\n')\n",
        "\n",
        "\n",
        "#######MAIN############\n",
        "\n",
        "print(\"Digite um numero para calcular o seu 'fib', e então compararmos o seu tempo de execução \\n em recursão VS programação dinamica \\n \")\n",
        "\n",
        "n = input(\">>> \")\n",
        "print(\"\\n\")\n",
        "\n",
        "comparaFib(int(n))\n",
        "\n",
        "\n",
        "\n",
        "\n",
        "\n"
      ]
    }
  ]
}